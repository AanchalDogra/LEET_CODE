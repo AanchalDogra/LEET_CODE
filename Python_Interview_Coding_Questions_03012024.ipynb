{
  "nbformat": 4,
  "nbformat_minor": 0,
  "metadata": {
    "colab": {
      "provenance": [],
      "authorship_tag": "ABX9TyOngRX4faGAK1u/M/Eytwv6",
      "include_colab_link": true
    },
    "kernelspec": {
      "name": "python3",
      "display_name": "Python 3"
    },
    "language_info": {
      "name": "python"
    }
  },
  "cells": [
    {
      "cell_type": "markdown",
      "metadata": {
        "id": "view-in-github",
        "colab_type": "text"
      },
      "source": [
        "<a href=\"https://colab.research.google.com/github/AanchalDogra/LEET_CODE/blob/main/Python_Interview_Coding_Questions_03012024.ipynb\" target=\"_parent\"><img src=\"https://colab.research.google.com/assets/colab-badge.svg\" alt=\"Open In Colab\"/></a>"
      ]
    },
    {
      "cell_type": "markdown",
      "source": [
        "1. Question: Given a list of numbers, write a Python function to find the second highest number."
      ],
      "metadata": {
        "id": "Dg6NAqyVQ3j4"
      }
    },
    {
      "cell_type": "code",
      "source": [
        "def second_highest(numbers):\n",
        "  numbers = list(set(numbers))\n",
        "  numbers.sort()\n",
        "  return numbers[-2]"
      ],
      "metadata": {
        "id": "Grz1kj7pQ3Po"
      },
      "execution_count": null,
      "outputs": []
    },
    {
      "cell_type": "code",
      "source": [
        "list1 = [1,2,4,5,6,88]"
      ],
      "metadata": {
        "id": "_lIFGLVcSo96"
      },
      "execution_count": null,
      "outputs": []
    },
    {
      "cell_type": "code",
      "source": [
        "second_highest(list1)"
      ],
      "metadata": {
        "colab": {
          "base_uri": "https://localhost:8080/"
        },
        "id": "_JZO76oHSrv4",
        "outputId": "db5b34c0-db08-4373-8fc0-a5722d6fcc5f"
      },
      "execution_count": null,
      "outputs": [
        {
          "output_type": "execute_result",
          "data": {
            "text/plain": [
              "6"
            ]
          },
          "metadata": {},
          "execution_count": 7
        }
      ]
    },
    {
      "cell_type": "code",
      "source": [
        "list1.sort()\n"
      ],
      "metadata": {
        "id": "cEqlse9uQzLl"
      },
      "execution_count": null,
      "outputs": []
    },
    {
      "cell_type": "code",
      "source": [
        "list1"
      ],
      "metadata": {
        "colab": {
          "base_uri": "https://localhost:8080/"
        },
        "id": "5-EenbiiS3Tz",
        "outputId": "b7e10658-89be-4d62-d760-9dc0487b29be"
      },
      "execution_count": null,
      "outputs": [
        {
          "output_type": "execute_result",
          "data": {
            "text/plain": [
              "[1, 2, 4, 5, 6, 88]"
            ]
          },
          "metadata": {},
          "execution_count": 9
        }
      ]
    },
    {
      "cell_type": "markdown",
      "source": [
        "2. Question: Write a function to compute the factorial of a number using recursion.\n",
        "\n",
        "Answer:"
      ],
      "metadata": {
        "id": "Xl9JX25LTBVS"
      }
    },
    {
      "cell_type": "code",
      "source": [
        "def fact(n):\n",
        "  if n == 1:\n",
        "    return 1\n",
        "  else:\n",
        "    return n*fact(n-1)"
      ],
      "metadata": {
        "id": "QyJTj9jUTCKC"
      },
      "execution_count": null,
      "outputs": []
    },
    {
      "cell_type": "code",
      "source": [
        "fact(4)"
      ],
      "metadata": {
        "colab": {
          "base_uri": "https://localhost:8080/"
        },
        "id": "o42yIYqCaljz",
        "outputId": "df6362f9-7cff-49d6-97eb-a8b26b383207"
      },
      "execution_count": null,
      "outputs": [
        {
          "output_type": "execute_result",
          "data": {
            "text/plain": [
              "24"
            ]
          },
          "metadata": {},
          "execution_count": 11
        }
      ]
    },
    {
      "cell_type": "markdown",
      "source": [
        "In Python, e.isalnum() is a method used with strings to check if all characters in the string are alphanumeric. Alphanumeric characters are those that are either letters (a-z, A-Z) or digits (0-9). The method returns True if all characters in the string are alphanumeric, and False otherwise."
      ],
      "metadata": {
        "id": "fhlPTWHOa58v"
      }
    },
    {
      "cell_type": "code",
      "source": [
        "# isinstance(i, list)"
      ],
      "metadata": {
        "id": "oakSWG8zS4iJ"
      },
      "execution_count": null,
      "outputs": []
    },
    {
      "cell_type": "code",
      "source": [
        "i = [1, 2, 3]\n",
        "\n",
        "if isinstance(i, list):\n",
        "    print(\"i is a list\")\n",
        "else:\n",
        "    print(\"i is not a list\")\n",
        "\n"
      ],
      "metadata": {
        "colab": {
          "base_uri": "https://localhost:8080/"
        },
        "id": "tpIz3aY1bGDh",
        "outputId": "a7c83bda-9689-4ed6-c015-c151fdf7218c"
      },
      "execution_count": null,
      "outputs": [
        {
          "output_type": "stream",
          "name": "stdout",
          "text": [
            "i is a list\n"
          ]
        }
      ]
    }
  ]
}