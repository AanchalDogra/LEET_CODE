{
  "nbformat": 4,
  "nbformat_minor": 0,
  "metadata": {
    "colab": {
      "provenance": [],
      "authorship_tag": "ABX9TyPfmy8qVbdVEydL0iiuxqCF",
      "include_colab_link": true
    },
    "kernelspec": {
      "name": "python3",
      "display_name": "Python 3"
    },
    "language_info": {
      "name": "python"
    }
  },
  "cells": [
    {
      "cell_type": "markdown",
      "metadata": {
        "id": "view-in-github",
        "colab_type": "text"
      },
      "source": [
        "<a href=\"https://colab.research.google.com/github/AanchalDogra/LEET_CODE/blob/main/LeetCode.ipynb\" target=\"_parent\"><img src=\"https://colab.research.google.com/assets/colab-badge.svg\" alt=\"Open In Colab\"/></a>"
      ]
    },
    {
      "cell_type": "code",
      "execution_count": 2,
      "metadata": {
        "colab": {
          "base_uri": "https://localhost:8080/"
        },
        "id": "bm2mlUu0p8WQ",
        "outputId": "a1efb657-a330-4d5f-85a0-1a9ea7d11ee5"
      },
      "outputs": [
        {
          "output_type": "stream",
          "name": "stdout",
          "text": [
            "[[1, 3], [3, 1], [4, 1], [2]]\n"
          ]
        }
      ],
      "source": [
        "def create_minimal_2d_array(nums):\n",
        "    result = []\n",
        "    seen = set()\n",
        "\n",
        "    for num in nums:\n",
        "        if num not in seen:\n",
        "            result.append([num])\n",
        "            seen.add(num)\n",
        "        else:\n",
        "            # Find the row where the current number already exists and add it to that row\n",
        "            for row in result:\n",
        "                if num not in row:\n",
        "                    row.append(num)\n",
        "                    break\n",
        "\n",
        "    return result\n",
        "\n",
        "# Example usage:\n",
        "nums = [1,3,4,1,2,3,1]\n",
        "result_array = create_minimal_2d_array(nums)\n",
        "print(result_array)\n"
      ]
    },
    {
      "cell_type": "code",
      "source": [],
      "metadata": {
        "id": "4DfU9KSPq9ry"
      },
      "execution_count": null,
      "outputs": []
    }
  ]
}